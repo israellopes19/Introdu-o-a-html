{
  "nbformat": 4,
  "nbformat_minor": 0,
  "metadata": {
    "colab": {
      "provenance": [],
      "authorship_tag": "ABX9TyMKKYxZsL7SvK88w6adlHRs",
      "include_colab_link": true
    },
    "kernelspec": {
      "name": "python3",
      "display_name": "Python 3"
    },
    "language_info": {
      "name": "python"
    }
  },
  "cells": [
    {
      "cell_type": "markdown",
      "metadata": {
        "id": "view-in-github",
        "colab_type": "text"
      },
      "source": [
        "<a href=\"https://colab.research.google.com/github/israellopes19/Introdu-o-a-html/blob/main/Untitled3.ipynb\" target=\"_parent\"><img src=\"https://colab.research.google.com/assets/colab-badge.svg\" alt=\"Open In Colab\"/></a>"
      ]
    },
    {
      "cell_type": "code",
      "execution_count": null,
      "metadata": {
        "id": "UB0nAqhuHFA6"
      },
      "outputs": [],
      "source": [
        "# resoluçâo\n",
        "\n",
        "<!Doctype html>\n",
        "<html>\n",
        "<body>\n",
        "</body>\n",
        "</html>\n",
        "\n"
      ]
    }
  ]
}