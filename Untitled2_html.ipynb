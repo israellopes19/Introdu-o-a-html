{
  "nbformat": 4,
  "nbformat_minor": 0,
  "metadata": {
    "colab": {
      "provenance": []
    },
    "kernelspec": {
      "name": "python3",
      "display_name": "Python 3"
    },
    "language_info": {
      "name": "python"
    }
  },
  "cells": [
    {
      "cell_type": "code",
      "execution_count": null,
      "metadata": {
        "id": "2LUz_vFN3YAc"
      },
      "outputs": [],
      "source": [
        "#1. inicio da Introduçâo a Html\n",
        "\n",
        "# EXPOSITOR DO CÓDIGO NA WEB (tipo de documento)\n",
        "<!Doctype html>\n",
        "\n",
        "# Tag de abertura html\n",
        "<html>\n",
        "\n",
        "#  Tag de abertura body(corpo)\n",
        "<body>\n",
        "\n",
        "# tag de fechamento body\n",
        "</body>\n",
        "\n",
        "#tag de fechamento html\n",
        "</html>\n",
        "\n",
        "\n",
        "\n"
      ]
    }
  ]
}