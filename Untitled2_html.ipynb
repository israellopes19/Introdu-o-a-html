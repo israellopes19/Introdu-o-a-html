{
  "nbformat": 4,
  "nbformat_minor": 0,
  "metadata": {
    "colab": {
      "provenance": [],
      "authorship_tag": "ABX9TyOsqvLMfMaOfnGNt4qyETx1",
      "include_colab_link": true
    },
    "kernelspec": {
      "name": "python3",
      "display_name": "Python 3"
    },
    "language_info": {
      "name": "python"
    }
  },
  "cells": [
    {
      "cell_type": "markdown",
      "metadata": {
        "id": "view-in-github",
        "colab_type": "text"
      },
      "source": [
        "<a href=\"https://colab.research.google.com/github/israellopes19/Introdu-o-a-html/blob/main/Untitled2_html.ipynb\" target=\"_parent\"><img src=\"https://colab.research.google.com/assets/colab-badge.svg\" alt=\"Open In Colab\"/></a>"
      ]
    },
    {
      "cell_type": "code",
      "execution_count": null,
      "metadata": {
        "id": "2LUz_vFN3YAc"
      },
      "outputs": [],
      "source": [
        "#1. inicio da Introduçâo a Html\n",
        "\n",
        "# EXPOSITOR DO CÓDIGO NA WEB (tipo de documento)\n",
        "<!Doctype html>\n",
        "\n",
        "# Tag de abertura html\n",
        "<html>\n",
        "\n",
        "#  Tag de abertura body(corpo)\n",
        "<body>\n",
        "\n",
        "# tag de fechamento body\n",
        "</body>\n",
        "\n",
        "#tag de fechamento html\n",
        "</html>\n",
        "\n",
        "\n",
        "\n"
      ]
    }
  ]
}